{
 "cells": [
  {
   "cell_type": "code",
   "execution_count": 29,
   "id": "4565a61a",
   "metadata": {},
   "outputs": [],
   "source": [
    "import pandas as pd\n",
    "import numpy as np\n",
    "from sklearn.model_selection import train_test_split\n",
    "from nltk.corpus import stopwords\n",
    "from dateutil import parser\n",
    "from sklearn.preprocessing import LabelEncoder\n",
    "from sklearn.feature_extraction.text import CountVectorizer\n",
    "from sklearn.utils import shuffle\n",
    "from sklearn.naive_bayes import GaussianNB, MultinomialNB\n",
    "from sklearn.metrics import (\n",
    "    accuracy_score,\n",
    "    confusion_matrix,\n",
    "    ConfusionMatrixDisplay,\n",
    "    f1_score,\n",
    ")\n",
    "from nltk.stem import PorterStemmer\n",
    "from nltk.tokenize import word_tokenize\n",
    "from sklearn.feature_extraction.text import TfidfVectorizer\n",
    "from collections import Counter\n",
    "from sklearn.tree import DecisionTreeClassifier\n",
    "from sklearn.ensemble import RandomForestClassifier\n",
    "from sklearn.svm import SVC\n",
    "from sklearn.metrics import confusion_matrix, ConfusionMatrixDisplay\n",
    "import matplotlib.pyplot as plt\n",
    "from sklearn.neighbors import KNeighborsClassifier\n",
    "from sklearn.utils.class_weight import compute_class_weight\n",
    "import numpy as np"
   ]
  },
  {
   "cell_type": "code",
   "execution_count": null,
   "id": "5af9a2d1",
   "metadata": {},
   "outputs": [],
   "source": [
    "df = pd.read_excel('new_test-data.xlsx', sheet_name=1)\n",
    "df_test = pd.read_excel('April Closed INC.xlsx', sheet_name=1)"
   ]
  },
  {
   "cell_type": "code",
   "execution_count": 37,
   "id": "88d4f8bd",
   "metadata": {},
   "outputs": [
    {
     "data": {
      "text/html": [
       "<div>\n",
       "<style scoped>\n",
       "    .dataframe tbody tr th:only-of-type {\n",
       "        vertical-align: middle;\n",
       "    }\n",
       "\n",
       "    .dataframe tbody tr th {\n",
       "        vertical-align: top;\n",
       "    }\n",
       "\n",
       "    .dataframe thead th {\n",
       "        text-align: right;\n",
       "    }\n",
       "</style>\n",
       "<table border=\"1\" class=\"dataframe\">\n",
       "  <thead>\n",
       "    <tr style=\"text-align: right;\">\n",
       "      <th></th>\n",
       "      <th>Number</th>\n",
       "      <th>Opened</th>\n",
       "      <th>Created</th>\n",
       "      <th>Short description</th>\n",
       "      <th>Category</th>\n",
       "      <th>Caller</th>\n",
       "      <th>Priority</th>\n",
       "      <th>State</th>\n",
       "      <th>Assignment group</th>\n",
       "      <th>Assigned to</th>\n",
       "      <th>Updated</th>\n",
       "      <th>Updated by</th>\n",
       "    </tr>\n",
       "  </thead>\n",
       "  <tbody>\n",
       "    <tr>\n",
       "      <th>0</th>\n",
       "      <td>INC0087058</td>\n",
       "      <td>2022-12-24 20:30:31</td>\n",
       "      <td>2022-12-24 20:39:05</td>\n",
       "      <td>MVW - EHR missing GillRK</td>\n",
       "      <td>MVW</td>\n",
       "      <td>Gill, Rajwinder (Rajwinder.Gill2@sutterhealth....</td>\n",
       "      <td>2 - High</td>\n",
       "      <td>Closed</td>\n",
       "      <td>Access-Active Directory Domain</td>\n",
       "      <td>Amer Mohd Jafar, Shaik Mohammad (ShaikMohammad...</td>\n",
       "      <td>2023-01-01 02:00:11</td>\n",
       "      <td>system</td>\n",
       "    </tr>\n",
       "    <tr>\n",
       "      <th>1</th>\n",
       "      <td>INC0084178</td>\n",
       "      <td>2022-12-22 20:22:31</td>\n",
       "      <td>2022-12-22 20:37:30</td>\n",
       "      <td>MVW - Unable to Access - Please create Home Dr...</td>\n",
       "      <td>MVW</td>\n",
       "      <td>Tan, Ralph Curt</td>\n",
       "      <td>2 - High</td>\n",
       "      <td>Closed</td>\n",
       "      <td>Access-Active Directory Domain</td>\n",
       "      <td>Deshmukh, Satyam (Satyam.Deshmukh@sutterhealth...</td>\n",
       "      <td>2023-01-01 18:00:05</td>\n",
       "      <td>system</td>\n",
       "    </tr>\n",
       "    <tr>\n",
       "      <th>2</th>\n",
       "      <td>INC0090247</td>\n",
       "      <td>2022-12-27 11:02:18</td>\n",
       "      <td>2022-12-27 11:07:10</td>\n",
       "      <td>Access- MVW</td>\n",
       "      <td>MVW</td>\n",
       "      <td>Ona, Marta (Marta.Ona@sutterhealth.org)</td>\n",
       "      <td>4 - Low</td>\n",
       "      <td>Closed</td>\n",
       "      <td>Access-Active Directory Domain</td>\n",
       "      <td>D B, Krishna (Krishna.DB@sutterhealth.org)</td>\n",
       "      <td>2023-01-03 12:00:13</td>\n",
       "      <td>system</td>\n",
       "    </tr>\n",
       "    <tr>\n",
       "      <th>3</th>\n",
       "      <td>INC0094548</td>\n",
       "      <td>2022-12-28 22:46:27</td>\n",
       "      <td>2022-12-28 23:02:36</td>\n",
       "      <td>MVW - GG Missing in AD Acct</td>\n",
       "      <td>MVW</td>\n",
       "      <td>Bush, Brenda (Brenda.Bush2@sutterhealth.org)</td>\n",
       "      <td>2 - High</td>\n",
       "      <td>Closed</td>\n",
       "      <td>Access-Active Directory Domain</td>\n",
       "      <td>Deshmukh, Satyam (Satyam.Deshmukh@sutterhealth...</td>\n",
       "      <td>2023-01-05 00:00:27</td>\n",
       "      <td>system</td>\n",
       "    </tr>\n",
       "    <tr>\n",
       "      <th>4</th>\n",
       "      <td>INC0096766</td>\n",
       "      <td>2022-12-29 16:01:46</td>\n",
       "      <td>2022-12-29 16:12:42</td>\n",
       "      <td>MVW - unable to access</td>\n",
       "      <td>MVW</td>\n",
       "      <td>France, Austin</td>\n",
       "      <td>4 - Low</td>\n",
       "      <td>Closed</td>\n",
       "      <td>Access-Active Directory Domain</td>\n",
       "      <td>Gopakumar, Theertha (Theertha.Gopakumar@sutter...</td>\n",
       "      <td>2023-01-06 12:00:58</td>\n",
       "      <td>system</td>\n",
       "    </tr>\n",
       "  </tbody>\n",
       "</table>\n",
       "</div>"
      ],
      "text/plain": [
       "       Number              Opened             Created   \n",
       "0  INC0087058 2022-12-24 20:30:31 2022-12-24 20:39:05  \\\n",
       "1  INC0084178 2022-12-22 20:22:31 2022-12-22 20:37:30   \n",
       "2  INC0090247 2022-12-27 11:02:18 2022-12-27 11:07:10   \n",
       "3  INC0094548 2022-12-28 22:46:27 2022-12-28 23:02:36   \n",
       "4  INC0096766 2022-12-29 16:01:46 2022-12-29 16:12:42   \n",
       "\n",
       "                                   Short description Category   \n",
       "0                           MVW - EHR missing GillRK      MVW  \\\n",
       "1  MVW - Unable to Access - Please create Home Dr...      MVW   \n",
       "2                                       Access- MVW       MVW   \n",
       "3                       MVW - GG Missing in AD Acct       MVW   \n",
       "4                             MVW - unable to access      MVW   \n",
       "\n",
       "                                              Caller  Priority   State   \n",
       "0  Gill, Rajwinder (Rajwinder.Gill2@sutterhealth....  2 - High  Closed  \\\n",
       "1                                    Tan, Ralph Curt  2 - High  Closed   \n",
       "2            Ona, Marta (Marta.Ona@sutterhealth.org)   4 - Low  Closed   \n",
       "3       Bush, Brenda (Brenda.Bush2@sutterhealth.org)  2 - High  Closed   \n",
       "4                                     France, Austin   4 - Low  Closed   \n",
       "\n",
       "                 Assignment group   \n",
       "0  Access-Active Directory Domain  \\\n",
       "1  Access-Active Directory Domain   \n",
       "2  Access-Active Directory Domain   \n",
       "3  Access-Active Directory Domain   \n",
       "4  Access-Active Directory Domain   \n",
       "\n",
       "                                         Assigned to             Updated   \n",
       "0  Amer Mohd Jafar, Shaik Mohammad (ShaikMohammad... 2023-01-01 02:00:11  \\\n",
       "1  Deshmukh, Satyam (Satyam.Deshmukh@sutterhealth... 2023-01-01 18:00:05   \n",
       "2         D B, Krishna (Krishna.DB@sutterhealth.org) 2023-01-03 12:00:13   \n",
       "3  Deshmukh, Satyam (Satyam.Deshmukh@sutterhealth... 2023-01-05 00:00:27   \n",
       "4  Gopakumar, Theertha (Theertha.Gopakumar@sutter... 2023-01-06 12:00:58   \n",
       "\n",
       "  Updated by  \n",
       "0     system  \n",
       "1     system  \n",
       "2     system  \n",
       "3     system  \n",
       "4     system  "
      ]
     },
     "execution_count": 37,
     "metadata": {},
     "output_type": "execute_result"
    }
   ],
   "source": [
    "df.head()"
   ]
  },
  {
   "cell_type": "code",
   "execution_count": 38,
   "id": "31ffb9e0",
   "metadata": {},
   "outputs": [],
   "source": [
    "drop_cols = [\"Number\", \"Opened\", \"Created\", \"Caller\", \"Priority\", \"State\", \"Assignment group\", \"Assigned to\", \"Updated\", \"Updated by\"]"
   ]
  },
  {
   "cell_type": "code",
   "execution_count": 39,
   "id": "4dbcd485",
   "metadata": {},
   "outputs": [],
   "source": [
    "# df.drop(drop_cols, inplace=True, axis='columns')\n",
    "df = df[['Short description', 'Category']]"
   ]
  },
  {
   "cell_type": "code",
   "execution_count": 25,
   "id": "dc6df648",
   "metadata": {},
   "outputs": [
    {
     "data": {
      "text/html": [
       "<div>\n",
       "<style scoped>\n",
       "    .dataframe tbody tr th:only-of-type {\n",
       "        vertical-align: middle;\n",
       "    }\n",
       "\n",
       "    .dataframe tbody tr th {\n",
       "        vertical-align: top;\n",
       "    }\n",
       "\n",
       "    .dataframe thead th {\n",
       "        text-align: right;\n",
       "    }\n",
       "</style>\n",
       "<table border=\"1\" class=\"dataframe\">\n",
       "  <thead>\n",
       "    <tr style=\"text-align: right;\">\n",
       "      <th></th>\n",
       "      <th>Short description</th>\n",
       "      <th>Category</th>\n",
       "      <th>Updated by</th>\n",
       "    </tr>\n",
       "  </thead>\n",
       "  <tbody>\n",
       "    <tr>\n",
       "      <th>0</th>\n",
       "      <td>MVW - EHR missing GillRK</td>\n",
       "      <td>MVW</td>\n",
       "      <td>system</td>\n",
       "    </tr>\n",
       "    <tr>\n",
       "      <th>1</th>\n",
       "      <td>MVW - Unable to Access - Please create Home Dr...</td>\n",
       "      <td>MVW</td>\n",
       "      <td>system</td>\n",
       "    </tr>\n",
       "    <tr>\n",
       "      <th>2</th>\n",
       "      <td>Access- MVW</td>\n",
       "      <td>MVW</td>\n",
       "      <td>system</td>\n",
       "    </tr>\n",
       "    <tr>\n",
       "      <th>3</th>\n",
       "      <td>MVW - GG Missing in AD Acct</td>\n",
       "      <td>MVW</td>\n",
       "      <td>system</td>\n",
       "    </tr>\n",
       "    <tr>\n",
       "      <th>4</th>\n",
       "      <td>MVW - unable to access</td>\n",
       "      <td>MVW</td>\n",
       "      <td>system</td>\n",
       "    </tr>\n",
       "    <tr>\n",
       "      <th>...</th>\n",
       "      <td>...</td>\n",
       "      <td>...</td>\n",
       "      <td>...</td>\n",
       "    </tr>\n",
       "    <tr>\n",
       "      <th>2077</th>\n",
       "      <td>Active Directory - Email needs to be created f...</td>\n",
       "      <td>AD</td>\n",
       "      <td>system</td>\n",
       "    </tr>\n",
       "    <tr>\n",
       "      <th>2078</th>\n",
       "      <td>Request customer be added to the app-powershar...</td>\n",
       "      <td>AD</td>\n",
       "      <td>system</td>\n",
       "    </tr>\n",
       "    <tr>\n",
       "      <th>2079</th>\n",
       "      <td>R1 RCM Transition - restrict view in \\\\dcms2ms...</td>\n",
       "      <td>Shared Drive</td>\n",
       "      <td>system</td>\n",
       "    </tr>\n",
       "    <tr>\n",
       "      <th>2080</th>\n",
       "      <td>No AD attached in sailpoint</td>\n",
       "      <td>AD</td>\n",
       "      <td>system</td>\n",
       "    </tr>\n",
       "    <tr>\n",
       "      <th>2081</th>\n",
       "      <td>Lawson Production - Access Error</td>\n",
       "      <td>AD</td>\n",
       "      <td>WahidF1</td>\n",
       "    </tr>\n",
       "  </tbody>\n",
       "</table>\n",
       "<p>2082 rows × 3 columns</p>\n",
       "</div>"
      ],
      "text/plain": [
       "                                      Short description      Category   \n",
       "0                              MVW - EHR missing GillRK           MVW  \\\n",
       "1     MVW - Unable to Access - Please create Home Dr...           MVW   \n",
       "2                                          Access- MVW            MVW   \n",
       "3                          MVW - GG Missing in AD Acct            MVW   \n",
       "4                                MVW - unable to access           MVW   \n",
       "...                                                 ...           ...   \n",
       "2077  Active Directory - Email needs to be created f...            AD   \n",
       "2078  Request customer be added to the app-powershar...            AD   \n",
       "2079  R1 RCM Transition - restrict view in \\\\dcms2ms...  Shared Drive   \n",
       "2080                       No AD attached in sailpoint             AD   \n",
       "2081                  Lawson Production - Access Error             AD   \n",
       "\n",
       "     Updated by  \n",
       "0        system  \n",
       "1        system  \n",
       "2        system  \n",
       "3        system  \n",
       "4        system  \n",
       "...         ...  \n",
       "2077     system  \n",
       "2078     system  \n",
       "2079     system  \n",
       "2080     system  \n",
       "2081    WahidF1  \n",
       "\n",
       "[2082 rows x 3 columns]"
      ]
     },
     "execution_count": 25,
     "metadata": {},
     "output_type": "execute_result"
    }
   ],
   "source": [
    "df"
   ]
  },
  {
   "cell_type": "code",
   "execution_count": null,
   "id": "bce4e2ee",
   "metadata": {},
   "outputs": [],
   "source": [
    "english_stopwords = stopwords.words('english')\n",
    "puncuations = ['!', '\"', '#', '$', '%', '&', \"'\", '(', ')', '*', '+', ',', '-', '.', '/', ':', ';', '<', '=', \n",
    "               '>', '?', '@', '[', ']', '^', '_', '`', '{', '|', '}', '~']\n"
   ]
  },
  {
   "cell_type": "code",
   "execution_count": 41,
   "id": "18a9fa64",
   "metadata": {},
   "outputs": [
    {
     "data": {
      "text/plain": [
       "Short description    0\n",
       "Category             0\n",
       "dtype: int64"
      ]
     },
     "execution_count": 41,
     "metadata": {},
     "output_type": "execute_result"
    }
   ],
   "source": [
    "df.isna().sum()"
   ]
  },
  {
   "cell_type": "code",
   "execution_count": null,
   "id": "8e52323a",
   "metadata": {},
   "outputs": [],
   "source": [
    "df_test.isna().sum()"
   ]
  },
  {
   "cell_type": "code",
   "execution_count": 42,
   "id": "43921509",
   "metadata": {},
   "outputs": [],
   "source": [
    "df.columns = [\"SD\", \"Cat\"]"
   ]
  },
  {
   "cell_type": "code",
   "execution_count": 43,
   "id": "045f80d6",
   "metadata": {},
   "outputs": [
    {
     "data": {
      "text/html": [
       "<div>\n",
       "<style scoped>\n",
       "    .dataframe tbody tr th:only-of-type {\n",
       "        vertical-align: middle;\n",
       "    }\n",
       "\n",
       "    .dataframe tbody tr th {\n",
       "        vertical-align: top;\n",
       "    }\n",
       "\n",
       "    .dataframe thead th {\n",
       "        text-align: right;\n",
       "    }\n",
       "</style>\n",
       "<table border=\"1\" class=\"dataframe\">\n",
       "  <thead>\n",
       "    <tr style=\"text-align: right;\">\n",
       "      <th></th>\n",
       "      <th>SD</th>\n",
       "      <th>Cat</th>\n",
       "    </tr>\n",
       "  </thead>\n",
       "  <tbody>\n",
       "    <tr>\n",
       "      <th>0</th>\n",
       "      <td>MVW - EHR missing GillRK</td>\n",
       "      <td>MVW</td>\n",
       "    </tr>\n",
       "    <tr>\n",
       "      <th>1</th>\n",
       "      <td>MVW - Unable to Access - Please create Home Dr...</td>\n",
       "      <td>MVW</td>\n",
       "    </tr>\n",
       "    <tr>\n",
       "      <th>2</th>\n",
       "      <td>Access- MVW</td>\n",
       "      <td>MVW</td>\n",
       "    </tr>\n",
       "    <tr>\n",
       "      <th>3</th>\n",
       "      <td>MVW - GG Missing in AD Acct</td>\n",
       "      <td>MVW</td>\n",
       "    </tr>\n",
       "    <tr>\n",
       "      <th>4</th>\n",
       "      <td>MVW - unable to access</td>\n",
       "      <td>MVW</td>\n",
       "    </tr>\n",
       "    <tr>\n",
       "      <th>...</th>\n",
       "      <td>...</td>\n",
       "      <td>...</td>\n",
       "    </tr>\n",
       "    <tr>\n",
       "      <th>2077</th>\n",
       "      <td>Active Directory - Email needs to be created f...</td>\n",
       "      <td>AD</td>\n",
       "    </tr>\n",
       "    <tr>\n",
       "      <th>2078</th>\n",
       "      <td>Request customer be added to the app-powershar...</td>\n",
       "      <td>AD</td>\n",
       "    </tr>\n",
       "    <tr>\n",
       "      <th>2079</th>\n",
       "      <td>R1 RCM Transition - restrict view in \\\\dcms2ms...</td>\n",
       "      <td>Shared Drive</td>\n",
       "    </tr>\n",
       "    <tr>\n",
       "      <th>2080</th>\n",
       "      <td>No AD attached in sailpoint</td>\n",
       "      <td>AD</td>\n",
       "    </tr>\n",
       "    <tr>\n",
       "      <th>2081</th>\n",
       "      <td>Lawson Production - Access Error</td>\n",
       "      <td>AD</td>\n",
       "    </tr>\n",
       "  </tbody>\n",
       "</table>\n",
       "<p>2082 rows × 2 columns</p>\n",
       "</div>"
      ],
      "text/plain": [
       "                                                     SD           Cat\n",
       "0                              MVW - EHR missing GillRK           MVW\n",
       "1     MVW - Unable to Access - Please create Home Dr...           MVW\n",
       "2                                          Access- MVW            MVW\n",
       "3                          MVW - GG Missing in AD Acct            MVW\n",
       "4                                MVW - unable to access           MVW\n",
       "...                                                 ...           ...\n",
       "2077  Active Directory - Email needs to be created f...            AD\n",
       "2078  Request customer be added to the app-powershar...            AD\n",
       "2079  R1 RCM Transition - restrict view in \\\\dcms2ms...  Shared Drive\n",
       "2080                       No AD attached in sailpoint             AD\n",
       "2081                  Lawson Production - Access Error             AD\n",
       "\n",
       "[2082 rows x 2 columns]"
      ]
     },
     "execution_count": 43,
     "metadata": {},
     "output_type": "execute_result"
    }
   ],
   "source": [
    "df"
   ]
  },
  {
   "cell_type": "code",
   "execution_count": null,
   "id": "df0d4a74",
   "metadata": {},
   "outputs": [],
   "source": [
    "def is_valid_date(word):\n",
    "    try:\n",
    "        parser.parse(word)\n",
    "        return True\n",
    "    except:\n",
    "        return False\n",
    "\n",
    "def clean_row(row):\n",
    "    porter_stemmer = PorterStemmer()\n",
    "    row = ' '.join([word.lower() for word in row.split() if word.lower() not in english_stopwords])\n",
    "    row = ' '.join([word for word in row.split() if word not in puncuations])\n",
    "    row = ' '.join([word for word in row.split() if not row.isdigit()])\n",
    "    row = ' '.join([ word for word in row.split() if not is_valid_date(word)])\n",
    "    # row = ' '.join([ porter_stemmer.stem(word) for word in row.split()])\n",
    "    row = row.replace(\"/\", \"\")\n",
    "    row = row.replace(\"-\", \"\")\n",
    "    return row"
   ]
  },
  {
   "cell_type": "code",
   "execution_count": null,
   "id": "b4011f4b",
   "metadata": {},
   "outputs": [],
   "source": [
    "df['SD_CLEAN'] = df['SD'].apply(lambda row: clean_row(row))\n",
    "df_test['SD_CLEAN'] = df_test['Short description'].apply(lambda row: clean_row(row))"
   ]
  },
  {
   "cell_type": "code",
   "execution_count": null,
   "id": "42f41955",
   "metadata": {},
   "outputs": [],
   "source": [
    "df = df.dropna()"
   ]
  },
  {
   "cell_type": "code",
   "execution_count": null,
   "id": "5e0e54aa",
   "metadata": {},
   "outputs": [],
   "source": [
    "df['Cat'].unique()"
   ]
  },
  {
   "cell_type": "code",
   "execution_count": null,
   "id": "1c59ee96",
   "metadata": {},
   "outputs": [],
   "source": [
    "df"
   ]
  },
  {
   "cell_type": "code",
   "execution_count": null,
   "id": "0255a1a2",
   "metadata": {},
   "outputs": [],
   "source": [
    "df['Cat'].value_counts()"
   ]
  },
  {
   "cell_type": "code",
   "execution_count": null,
   "id": "69cc3d6c",
   "metadata": {},
   "outputs": [],
   "source": [
    "df['Cat'] = df['Cat'].replace(['Shared Folder and Network Drive','Shared Folder or Network Drive'], 'Shared Drive')\n",
    "df['Cat'] = df['Cat'].replace(['User Account '], 'User Account')\n",
    "df['Cat'] = df['Cat'].replace(['Sailpoint/AD','Sailpoint '], 'Sailpoint')\n",
    "df['Cat'] = df['Cat'].replace(['DL'], 'Distribution List')\n",
    "df['Cat'] = df['Cat'].replace(['Merge Accounts'], 'Account Merge')\n",
    "df['Cat'] = df['Cat'].replace(['Active Directory'], 'AD')\n",
    "df['Cat'] = df['Cat'].replace(['Health Plan'], 'Healthplan')\n",
    "df['Cat'] = df['Cat'].replace(['Shared Mail Box'], 'Shared Mailbox')"
   ]
  },
  {
   "cell_type": "code",
   "execution_count": null,
   "id": "9fe5f1a3",
   "metadata": {},
   "outputs": [],
   "source": [
    "df['Cat'].value_counts()"
   ]
  },
  {
   "cell_type": "code",
   "execution_count": null,
   "id": "0b1633f1",
   "metadata": {},
   "outputs": [],
   "source": [
    "df['Cat'].value_counts().plot.bar()"
   ]
  },
  {
   "cell_type": "code",
   "execution_count": null,
   "id": "471f0317",
   "metadata": {},
   "outputs": [],
   "source": [
    "label_encoder = LabelEncoder()\n",
    "label = label_encoder.fit_transform(df['Cat'])"
   ]
  },
  {
   "cell_type": "code",
   "execution_count": null,
   "id": "803280ca",
   "metadata": {},
   "outputs": [],
   "source": [
    "df['Cat_Class'] = label"
   ]
  },
  {
   "cell_type": "code",
   "execution_count": null,
   "id": "892a46f2",
   "metadata": {},
   "outputs": [],
   "source": [
    "final_df = shuffle(df[['SD_CLEAN', 'Cat_Class']], random_state=123)"
   ]
  },
  {
   "cell_type": "code",
   "execution_count": null,
   "id": "11c20418",
   "metadata": {},
   "outputs": [],
   "source": [
    "final_df.head()"
   ]
  },
  {
   "cell_type": "code",
   "execution_count": null,
   "id": "ce431fae",
   "metadata": {},
   "outputs": [],
   "source": [
    "# X_train, X_test, y_train, y_test = train_test_split(final_df[\"SD_CLEAN\"], final_df[\"Cat_Class\"], train_size=1, random_state=123)\n",
    "X_train = final_df['SD_CLEAN']\n",
    "Y_train = final_df['Cat_Class']\n",
    "X_test = df_test['SD_CLEAN']"
   ]
  },
  {
   "cell_type": "code",
   "execution_count": null,
   "id": "1f21f269",
   "metadata": {},
   "outputs": [],
   "source": [
    "print(X_train.shape)\n",
    "print(X_test.shape)\n",
    "print(Y_train.shape)\n",
    "# print(y_test.shape)"
   ]
  },
  {
   "cell_type": "code",
   "execution_count": null,
   "id": "2c38e3ea",
   "metadata": {},
   "outputs": [],
   "source": [
    "X_test"
   ]
  },
  {
   "cell_type": "code",
   "execution_count": null,
   "id": "917e04d6",
   "metadata": {},
   "outputs": [],
   "source": [
    "# creating bag of words \n",
    "vec = CountVectorizer()\n",
    "X_train_cv = vec.fit(X_train)"
   ]
  },
  {
   "cell_type": "code",
   "execution_count": null,
   "id": "1de11b96",
   "metadata": {},
   "outputs": [],
   "source": [
    "len(X_train_cv.vocabulary_)"
   ]
  },
  {
   "cell_type": "code",
   "execution_count": null,
   "id": "5dba74fa",
   "metadata": {},
   "outputs": [],
   "source": [
    "X_train_cv_transform = vec.fit_transform(X_train)"
   ]
  },
  {
   "cell_type": "code",
   "execution_count": null,
   "id": "22a27bf0",
   "metadata": {},
   "outputs": [],
   "source": [
    "X_test_cv_transform = vec.transform(X_test)"
   ]
  },
  {
   "cell_type": "code",
   "execution_count": null,
   "id": "075c5d2f",
   "metadata": {},
   "outputs": [],
   "source": [
    "random_model = RandomForestClassifier(class_weight='balanced')\n",
    "random_model.fit(X_train_cv_transform.toarray(), Y_train)\n",
    "y_pred_random_model = random_model.predict(X_test_cv_transform.toarray())"
   ]
  },
  {
   "cell_type": "code",
   "execution_count": null,
   "id": "1c7866de",
   "metadata": {},
   "outputs": [],
   "source": [
    "new_col = label_encoder.inverse_transform(y_pred_random_model)\n",
    "df_test['Category'] = new_col"
   ]
  },
  {
   "cell_type": "code",
   "execution_count": null,
   "id": "66861fef",
   "metadata": {},
   "outputs": [],
   "source": [
    "df_test['Category'].value_counts().plot.bar()"
   ]
  },
  {
   "cell_type": "code",
   "execution_count": null,
   "id": "bb295f25",
   "metadata": {},
   "outputs": [],
   "source": [
    "df_test = df_test.drop(['SD_CLEAN'], axis=1)\n",
    "df_test"
   ]
  },
  {
   "cell_type": "code",
   "execution_count": null,
   "id": "a2e65e17",
   "metadata": {},
   "outputs": [],
   "source": [
    "df_test.to_excel('april_predicted_data_closed_INC.xlsx', index=False)"
   ]
  }
 ],
 "metadata": {
  "kernelspec": {
   "display_name": "Python 3 (ipykernel)",
   "language": "python",
   "name": "python3"
  },
  "language_info": {
   "codemirror_mode": {
    "name": "ipython",
    "version": 3
   },
   "file_extension": ".py",
   "mimetype": "text/x-python",
   "name": "python",
   "nbconvert_exporter": "python",
   "pygments_lexer": "ipython3",
   "version": "3.10.7"
  }
 },
 "nbformat": 4,
 "nbformat_minor": 5
}
