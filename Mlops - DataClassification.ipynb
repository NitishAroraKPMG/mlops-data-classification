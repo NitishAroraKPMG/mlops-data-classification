{
 "cells": [
  {
   "cell_type": "code",
   "execution_count": 29,
   "id": "4565a61a",
   "metadata": {},
   "outputs": [],
   "source": [
    "import pandas as pd\n",
    "import numpy as np"
   ]
  },
  {
   "cell_type": "code",
   "execution_count": 36,
   "id": "a4ac587a",
   "metadata": {},
   "outputs": [],
   "source": [
    "df = pd.read_excel('Closed_INC_01Jan-31Jan.xlsx', sheet_name=1)"
   ]
  },
  {
   "cell_type": "code",
   "execution_count": 37,
   "id": "88d4f8bd",
   "metadata": {},
   "outputs": [
    {
     "data": {
      "text/html": [
       "<div>\n",
       "<style scoped>\n",
       "    .dataframe tbody tr th:only-of-type {\n",
       "        vertical-align: middle;\n",
       "    }\n",
       "\n",
       "    .dataframe tbody tr th {\n",
       "        vertical-align: top;\n",
       "    }\n",
       "\n",
       "    .dataframe thead th {\n",
       "        text-align: right;\n",
       "    }\n",
       "</style>\n",
       "<table border=\"1\" class=\"dataframe\">\n",
       "  <thead>\n",
       "    <tr style=\"text-align: right;\">\n",
       "      <th></th>\n",
       "      <th>Number</th>\n",
       "      <th>Opened</th>\n",
       "      <th>Created</th>\n",
       "      <th>Short description</th>\n",
       "      <th>Category</th>\n",
       "      <th>Caller</th>\n",
       "      <th>Priority</th>\n",
       "      <th>State</th>\n",
       "      <th>Assignment group</th>\n",
       "      <th>Assigned to</th>\n",
       "      <th>Updated</th>\n",
       "      <th>Updated by</th>\n",
       "    </tr>\n",
       "  </thead>\n",
       "  <tbody>\n",
       "    <tr>\n",
       "      <th>0</th>\n",
       "      <td>INC0087058</td>\n",
       "      <td>2022-12-24 20:30:31</td>\n",
       "      <td>2022-12-24 20:39:05</td>\n",
       "      <td>MVW - EHR missing GillRK</td>\n",
       "      <td>MVW</td>\n",
       "      <td>Gill, Rajwinder (Rajwinder.Gill2@sutterhealth....</td>\n",
       "      <td>2 - High</td>\n",
       "      <td>Closed</td>\n",
       "      <td>Access-Active Directory Domain</td>\n",
       "      <td>Amer Mohd Jafar, Shaik Mohammad (ShaikMohammad...</td>\n",
       "      <td>2023-01-01 02:00:11</td>\n",
       "      <td>system</td>\n",
       "    </tr>\n",
       "    <tr>\n",
       "      <th>1</th>\n",
       "      <td>INC0084178</td>\n",
       "      <td>2022-12-22 20:22:31</td>\n",
       "      <td>2022-12-22 20:37:30</td>\n",
       "      <td>MVW - Unable to Access - Please create Home Dr...</td>\n",
       "      <td>MVW</td>\n",
       "      <td>Tan, Ralph Curt</td>\n",
       "      <td>2 - High</td>\n",
       "      <td>Closed</td>\n",
       "      <td>Access-Active Directory Domain</td>\n",
       "      <td>Deshmukh, Satyam (Satyam.Deshmukh@sutterhealth...</td>\n",
       "      <td>2023-01-01 18:00:05</td>\n",
       "      <td>system</td>\n",
       "    </tr>\n",
       "    <tr>\n",
       "      <th>2</th>\n",
       "      <td>INC0090247</td>\n",
       "      <td>2022-12-27 11:02:18</td>\n",
       "      <td>2022-12-27 11:07:10</td>\n",
       "      <td>Access- MVW</td>\n",
       "      <td>MVW</td>\n",
       "      <td>Ona, Marta (Marta.Ona@sutterhealth.org)</td>\n",
       "      <td>4 - Low</td>\n",
       "      <td>Closed</td>\n",
       "      <td>Access-Active Directory Domain</td>\n",
       "      <td>D B, Krishna (Krishna.DB@sutterhealth.org)</td>\n",
       "      <td>2023-01-03 12:00:13</td>\n",
       "      <td>system</td>\n",
       "    </tr>\n",
       "    <tr>\n",
       "      <th>3</th>\n",
       "      <td>INC0094548</td>\n",
       "      <td>2022-12-28 22:46:27</td>\n",
       "      <td>2022-12-28 23:02:36</td>\n",
       "      <td>MVW - GG Missing in AD Acct</td>\n",
       "      <td>MVW</td>\n",
       "      <td>Bush, Brenda (Brenda.Bush2@sutterhealth.org)</td>\n",
       "      <td>2 - High</td>\n",
       "      <td>Closed</td>\n",
       "      <td>Access-Active Directory Domain</td>\n",
       "      <td>Deshmukh, Satyam (Satyam.Deshmukh@sutterhealth...</td>\n",
       "      <td>2023-01-05 00:00:27</td>\n",
       "      <td>system</td>\n",
       "    </tr>\n",
       "    <tr>\n",
       "      <th>4</th>\n",
       "      <td>INC0096766</td>\n",
       "      <td>2022-12-29 16:01:46</td>\n",
       "      <td>2022-12-29 16:12:42</td>\n",
       "      <td>MVW - unable to access</td>\n",
       "      <td>MVW</td>\n",
       "      <td>France, Austin</td>\n",
       "      <td>4 - Low</td>\n",
       "      <td>Closed</td>\n",
       "      <td>Access-Active Directory Domain</td>\n",
       "      <td>Gopakumar, Theertha (Theertha.Gopakumar@sutter...</td>\n",
       "      <td>2023-01-06 12:00:58</td>\n",
       "      <td>system</td>\n",
       "    </tr>\n",
       "  </tbody>\n",
       "</table>\n",
       "</div>"
      ],
      "text/plain": [
       "       Number              Opened             Created   \n",
       "0  INC0087058 2022-12-24 20:30:31 2022-12-24 20:39:05  \\\n",
       "1  INC0084178 2022-12-22 20:22:31 2022-12-22 20:37:30   \n",
       "2  INC0090247 2022-12-27 11:02:18 2022-12-27 11:07:10   \n",
       "3  INC0094548 2022-12-28 22:46:27 2022-12-28 23:02:36   \n",
       "4  INC0096766 2022-12-29 16:01:46 2022-12-29 16:12:42   \n",
       "\n",
       "                                   Short description Category   \n",
       "0                           MVW - EHR missing GillRK      MVW  \\\n",
       "1  MVW - Unable to Access - Please create Home Dr...      MVW   \n",
       "2                                       Access- MVW       MVW   \n",
       "3                       MVW - GG Missing in AD Acct       MVW   \n",
       "4                             MVW - unable to access      MVW   \n",
       "\n",
       "                                              Caller  Priority   State   \n",
       "0  Gill, Rajwinder (Rajwinder.Gill2@sutterhealth....  2 - High  Closed  \\\n",
       "1                                    Tan, Ralph Curt  2 - High  Closed   \n",
       "2            Ona, Marta (Marta.Ona@sutterhealth.org)   4 - Low  Closed   \n",
       "3       Bush, Brenda (Brenda.Bush2@sutterhealth.org)  2 - High  Closed   \n",
       "4                                     France, Austin   4 - Low  Closed   \n",
       "\n",
       "                 Assignment group   \n",
       "0  Access-Active Directory Domain  \\\n",
       "1  Access-Active Directory Domain   \n",
       "2  Access-Active Directory Domain   \n",
       "3  Access-Active Directory Domain   \n",
       "4  Access-Active Directory Domain   \n",
       "\n",
       "                                         Assigned to             Updated   \n",
       "0  Amer Mohd Jafar, Shaik Mohammad (ShaikMohammad... 2023-01-01 02:00:11  \\\n",
       "1  Deshmukh, Satyam (Satyam.Deshmukh@sutterhealth... 2023-01-01 18:00:05   \n",
       "2         D B, Krishna (Krishna.DB@sutterhealth.org) 2023-01-03 12:00:13   \n",
       "3  Deshmukh, Satyam (Satyam.Deshmukh@sutterhealth... 2023-01-05 00:00:27   \n",
       "4  Gopakumar, Theertha (Theertha.Gopakumar@sutter... 2023-01-06 12:00:58   \n",
       "\n",
       "  Updated by  \n",
       "0     system  \n",
       "1     system  \n",
       "2     system  \n",
       "3     system  \n",
       "4     system  "
      ]
     },
     "execution_count": 37,
     "metadata": {},
     "output_type": "execute_result"
    }
   ],
   "source": [
    "df.head()"
   ]
  },
  {
   "cell_type": "code",
   "execution_count": 38,
   "id": "31ffb9e0",
   "metadata": {},
   "outputs": [],
   "source": [
    "drop_cols = [\"Number\", \"Opened\", \"Created\", \"Caller\", \"Priority\", \"State\", \"Assignment group\", \"Assigned to\", \"Updated\", \"Updated by\"]"
   ]
  },
  {
   "cell_type": "code",
   "execution_count": 39,
   "id": "4dbcd485",
   "metadata": {},
   "outputs": [],
   "source": [
    "df.drop(drop_cols, inplace=True, axis='columns')"
   ]
  },
  {
   "cell_type": "code",
   "execution_count": 25,
   "id": "dc6df648",
   "metadata": {},
   "outputs": [
    {
     "data": {
      "text/html": [
       "<div>\n",
       "<style scoped>\n",
       "    .dataframe tbody tr th:only-of-type {\n",
       "        vertical-align: middle;\n",
       "    }\n",
       "\n",
       "    .dataframe tbody tr th {\n",
       "        vertical-align: top;\n",
       "    }\n",
       "\n",
       "    .dataframe thead th {\n",
       "        text-align: right;\n",
       "    }\n",
       "</style>\n",
       "<table border=\"1\" class=\"dataframe\">\n",
       "  <thead>\n",
       "    <tr style=\"text-align: right;\">\n",
       "      <th></th>\n",
       "      <th>Short description</th>\n",
       "      <th>Category</th>\n",
       "      <th>Updated by</th>\n",
       "    </tr>\n",
       "  </thead>\n",
       "  <tbody>\n",
       "    <tr>\n",
       "      <th>0</th>\n",
       "      <td>MVW - EHR missing GillRK</td>\n",
       "      <td>MVW</td>\n",
       "      <td>system</td>\n",
       "    </tr>\n",
       "    <tr>\n",
       "      <th>1</th>\n",
       "      <td>MVW - Unable to Access - Please create Home Dr...</td>\n",
       "      <td>MVW</td>\n",
       "      <td>system</td>\n",
       "    </tr>\n",
       "    <tr>\n",
       "      <th>2</th>\n",
       "      <td>Access- MVW</td>\n",
       "      <td>MVW</td>\n",
       "      <td>system</td>\n",
       "    </tr>\n",
       "    <tr>\n",
       "      <th>3</th>\n",
       "      <td>MVW - GG Missing in AD Acct</td>\n",
       "      <td>MVW</td>\n",
       "      <td>system</td>\n",
       "    </tr>\n",
       "    <tr>\n",
       "      <th>4</th>\n",
       "      <td>MVW - unable to access</td>\n",
       "      <td>MVW</td>\n",
       "      <td>system</td>\n",
       "    </tr>\n",
       "    <tr>\n",
       "      <th>...</th>\n",
       "      <td>...</td>\n",
       "      <td>...</td>\n",
       "      <td>...</td>\n",
       "    </tr>\n",
       "    <tr>\n",
       "      <th>2077</th>\n",
       "      <td>Active Directory - Email needs to be created f...</td>\n",
       "      <td>AD</td>\n",
       "      <td>system</td>\n",
       "    </tr>\n",
       "    <tr>\n",
       "      <th>2078</th>\n",
       "      <td>Request customer be added to the app-powershar...</td>\n",
       "      <td>AD</td>\n",
       "      <td>system</td>\n",
       "    </tr>\n",
       "    <tr>\n",
       "      <th>2079</th>\n",
       "      <td>R1 RCM Transition - restrict view in \\\\dcms2ms...</td>\n",
       "      <td>Shared Drive</td>\n",
       "      <td>system</td>\n",
       "    </tr>\n",
       "    <tr>\n",
       "      <th>2080</th>\n",
       "      <td>No AD attached in sailpoint</td>\n",
       "      <td>AD</td>\n",
       "      <td>system</td>\n",
       "    </tr>\n",
       "    <tr>\n",
       "      <th>2081</th>\n",
       "      <td>Lawson Production - Access Error</td>\n",
       "      <td>AD</td>\n",
       "      <td>WahidF1</td>\n",
       "    </tr>\n",
       "  </tbody>\n",
       "</table>\n",
       "<p>2082 rows × 3 columns</p>\n",
       "</div>"
      ],
      "text/plain": [
       "                                      Short description      Category   \n",
       "0                              MVW - EHR missing GillRK           MVW  \\\n",
       "1     MVW - Unable to Access - Please create Home Dr...           MVW   \n",
       "2                                          Access- MVW            MVW   \n",
       "3                          MVW - GG Missing in AD Acct            MVW   \n",
       "4                                MVW - unable to access           MVW   \n",
       "...                                                 ...           ...   \n",
       "2077  Active Directory - Email needs to be created f...            AD   \n",
       "2078  Request customer be added to the app-powershar...            AD   \n",
       "2079  R1 RCM Transition - restrict view in \\\\dcms2ms...  Shared Drive   \n",
       "2080                       No AD attached in sailpoint             AD   \n",
       "2081                  Lawson Production - Access Error             AD   \n",
       "\n",
       "     Updated by  \n",
       "0        system  \n",
       "1        system  \n",
       "2        system  \n",
       "3        system  \n",
       "4        system  \n",
       "...         ...  \n",
       "2077     system  \n",
       "2078     system  \n",
       "2079     system  \n",
       "2080     system  \n",
       "2081    WahidF1  \n",
       "\n",
       "[2082 rows x 3 columns]"
      ]
     },
     "execution_count": 25,
     "metadata": {},
     "output_type": "execute_result"
    }
   ],
   "source": [
    "df"
   ]
  },
  {
   "cell_type": "code",
   "execution_count": 41,
   "id": "18a9fa64",
   "metadata": {},
   "outputs": [
    {
     "data": {
      "text/plain": [
       "Short description    0\n",
       "Category             0\n",
       "dtype: int64"
      ]
     },
     "execution_count": 41,
     "metadata": {},
     "output_type": "execute_result"
    }
   ],
   "source": [
    "df.isna().sum()"
   ]
  },
  {
   "cell_type": "code",
   "execution_count": 42,
   "id": "43921509",
   "metadata": {},
   "outputs": [],
   "source": [
    "df.columns = [\"SD\", \"Cat\"]"
   ]
  },
  {
   "cell_type": "code",
   "execution_count": 43,
   "id": "045f80d6",
   "metadata": {},
   "outputs": [
    {
     "data": {
      "text/html": [
       "<div>\n",
       "<style scoped>\n",
       "    .dataframe tbody tr th:only-of-type {\n",
       "        vertical-align: middle;\n",
       "    }\n",
       "\n",
       "    .dataframe tbody tr th {\n",
       "        vertical-align: top;\n",
       "    }\n",
       "\n",
       "    .dataframe thead th {\n",
       "        text-align: right;\n",
       "    }\n",
       "</style>\n",
       "<table border=\"1\" class=\"dataframe\">\n",
       "  <thead>\n",
       "    <tr style=\"text-align: right;\">\n",
       "      <th></th>\n",
       "      <th>SD</th>\n",
       "      <th>Cat</th>\n",
       "    </tr>\n",
       "  </thead>\n",
       "  <tbody>\n",
       "    <tr>\n",
       "      <th>0</th>\n",
       "      <td>MVW - EHR missing GillRK</td>\n",
       "      <td>MVW</td>\n",
       "    </tr>\n",
       "    <tr>\n",
       "      <th>1</th>\n",
       "      <td>MVW - Unable to Access - Please create Home Dr...</td>\n",
       "      <td>MVW</td>\n",
       "    </tr>\n",
       "    <tr>\n",
       "      <th>2</th>\n",
       "      <td>Access- MVW</td>\n",
       "      <td>MVW</td>\n",
       "    </tr>\n",
       "    <tr>\n",
       "      <th>3</th>\n",
       "      <td>MVW - GG Missing in AD Acct</td>\n",
       "      <td>MVW</td>\n",
       "    </tr>\n",
       "    <tr>\n",
       "      <th>4</th>\n",
       "      <td>MVW - unable to access</td>\n",
       "      <td>MVW</td>\n",
       "    </tr>\n",
       "    <tr>\n",
       "      <th>...</th>\n",
       "      <td>...</td>\n",
       "      <td>...</td>\n",
       "    </tr>\n",
       "    <tr>\n",
       "      <th>2077</th>\n",
       "      <td>Active Directory - Email needs to be created f...</td>\n",
       "      <td>AD</td>\n",
       "    </tr>\n",
       "    <tr>\n",
       "      <th>2078</th>\n",
       "      <td>Request customer be added to the app-powershar...</td>\n",
       "      <td>AD</td>\n",
       "    </tr>\n",
       "    <tr>\n",
       "      <th>2079</th>\n",
       "      <td>R1 RCM Transition - restrict view in \\\\dcms2ms...</td>\n",
       "      <td>Shared Drive</td>\n",
       "    </tr>\n",
       "    <tr>\n",
       "      <th>2080</th>\n",
       "      <td>No AD attached in sailpoint</td>\n",
       "      <td>AD</td>\n",
       "    </tr>\n",
       "    <tr>\n",
       "      <th>2081</th>\n",
       "      <td>Lawson Production - Access Error</td>\n",
       "      <td>AD</td>\n",
       "    </tr>\n",
       "  </tbody>\n",
       "</table>\n",
       "<p>2082 rows × 2 columns</p>\n",
       "</div>"
      ],
      "text/plain": [
       "                                                     SD           Cat\n",
       "0                              MVW - EHR missing GillRK           MVW\n",
       "1     MVW - Unable to Access - Please create Home Dr...           MVW\n",
       "2                                          Access- MVW            MVW\n",
       "3                          MVW - GG Missing in AD Acct            MVW\n",
       "4                                MVW - unable to access           MVW\n",
       "...                                                 ...           ...\n",
       "2077  Active Directory - Email needs to be created f...            AD\n",
       "2078  Request customer be added to the app-powershar...            AD\n",
       "2079  R1 RCM Transition - restrict view in \\\\dcms2ms...  Shared Drive\n",
       "2080                       No AD attached in sailpoint             AD\n",
       "2081                  Lawson Production - Access Error             AD\n",
       "\n",
       "[2082 rows x 2 columns]"
      ]
     },
     "execution_count": 43,
     "metadata": {},
     "output_type": "execute_result"
    }
   ],
   "source": [
    "df"
   ]
  },
  {
   "cell_type": "code",
   "execution_count": 46,
   "id": "d227c4f7",
   "metadata": {},
   "outputs": [
    {
     "data": {
      "text/plain": [
       "<Axes: xlabel='Cat'>"
      ]
     },
     "execution_count": 46,
     "metadata": {},
     "output_type": "execute_result"
    },
    {
     "data": {
      "image/png": "[encoded data removed]",
      "text/plain": [
       "<Figure size 640x480 with 1 Axes>"
      ]
     },
     "metadata": {},
     "output_type": "display_data"
    }
   ],
   "source": [
    "df['Cat'].value_counts().plot.bar()"
   ]
  },
  {
   "cell_type": "code",
   "execution_count": 48,
   "id": "f05ac2a6",
   "metadata": {},
   "outputs": [],
   "source": [
    "from sklearn.model_selection import train_test_split\n"
   ]
  },
  {
   "cell_type": "code",
   "execution_count": 50,
   "id": "eade234b",
   "metadata": {},
   "outputs": [],
   "source": [
    "X_train, X_test, y_train, y_test = train_test_split(df[\"SD\"], df[\"Cat\"], test_size=0.33, random_state=123)"
   ]
  },
  {
   "cell_type": "code",
   "execution_count": 53,
   "id": "2e21f2f7",
   "metadata": {},
   "outputs": [
    {
     "name": "stdout",
     "output_type": "stream",
     "text": [
      "(1394,)\n",
      "(688,)\n",
      "(1394,)\n",
      "(688,)\n"
     ]
    }
   ],
   "source": [
    "print(X_train.shape)\n",
    "print(X_test.shape)\n",
    "print(y_train.shape)\n",
    "print(y_test.shape)"
   ]
  },
  {
   "cell_type": "code",
   "execution_count": 54,
   "id": "9b299206",
   "metadata": {},
   "outputs": [],
   "source": [
    "from sklearn.feature_extraction.text import CountVectorizer\n"
   ]
  },
  {
   "cell_type": "code",
   "execution_count": 55,
   "id": "e36a2145",
   "metadata": {},
   "outputs": [],
   "source": [
    "cv = CountVectorizer()"
   ]
  },
  {
   "cell_type": "code",
   "execution_count": null,
   "id": "af2385f2",
   "metadata": {},
   "outputs": [],
   "source": [
    "X_train_cv = cv.fit_transform(X_train)"
   ]
  }
 ],
 "metadata": {
  "kernelspec": {
   "display_name": "Python 3 (ipykernel)",
   "language": "python",
   "name": "python3"
  },
  "language_info": {
   "codemirror_mode": {
    "name": "ipython",
    "version": 3
   },
   "file_extension": ".py",
   "mimetype": "text/x-python",
   "name": "python",
   "nbconvert_exporter": "python",
   "pygments_lexer": "ipython3",
   "version": "3.10.7"
  }
 },
 "nbformat": 4,
 "nbformat_minor": 5
}
